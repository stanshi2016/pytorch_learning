{
  "cells": [
    {
      "cell_type": "markdown",
      "metadata": {
        "id": "view-in-github",
        "colab_type": "text"
      },
      "source": [
        "<a href=\"https://colab.research.google.com/github/stanshi2016/pytorch_learning/blob/main/PyTorch_test_tb.ipynb\" target=\"_parent\"><img src=\"https://colab.research.google.com/assets/colab-badge.svg\" alt=\"Open In Colab\"/></a>"
      ]
    },
    {
      "cell_type": "code",
      "execution_count": 5,
      "metadata": {
        "id": "6DdbJ86-qOje"
      },
      "outputs": [],
      "source": [
        "from torch.utils.data import Dataset\n",
        "import cv2\n",
        "import os"
      ]
    },
    {
      "cell_type": "code",
      "source": [
        "class MyData(Dataset):\n",
        "  def _init__(self, root_dir, label_dir):\n",
        "    self.root_dir = root_dir\n",
        "    self.label_dir = label_dir\n",
        "    self.path = os.path.join(self.root_dir, self.label_dir)\n",
        "    self.img_path = os.listdir(self.path)\n",
        "  \n",
        "  def __getitem__(self, idx):\n",
        "    img_name = self.img_path[idx]\n",
        "    img_item_path = os.path.join(self.root_dir, self.label_dir, img_name)\n",
        "    img = cv2.imread(img_item_path)\n",
        "    label = self.label_dir\n",
        "    return img, label\n",
        "  \n",
        "  def __len__(self):\n",
        "    return len(self.img_path)"
      ],
      "metadata": {
        "id": "f6Bmm08qS_DM"
      },
      "execution_count": 3,
      "outputs": []
    },
    {
      "cell_type": "markdown",
      "metadata": {
        "id": "vc-fG4hC2RoY"
      },
      "source": []
    }
  ],
  "metadata": {
    "accelerator": "GPU",
    "colab": {
      "toc_visible": true,
      "provenance": [],
      "authorship_tag": "ABX9TyMhU8DhG63n7y6QNgfQkrOX",
      "include_colab_link": true
    },
    "gpuClass": "standard",
    "kernelspec": {
      "display_name": "Python 3",
      "name": "python3"
    },
    "language_info": {
      "name": "python"
    }
  },
  "nbformat": 4,
  "nbformat_minor": 0
}