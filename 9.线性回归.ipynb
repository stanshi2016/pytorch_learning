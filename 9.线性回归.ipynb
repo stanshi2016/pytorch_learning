{
  "cells": [
    {
      "cell_type": "code",
      "execution_count": 1,
      "metadata": {
        "collapsed": true,
        "id": "3McV4WXes0U8"
      },
      "outputs": [],
      "source": [
        "import numpy as np\n",
        "import matplotlib.pyplot as plt\n",
        "from torch import nn,optim\n",
        "from torch.autograd import Variable\n",
        "import torch"
      ]
    },
    {
      "cell_type": "code",
      "execution_count": 6,
      "metadata": {
        "colab": {
          "base_uri": "https://localhost:8080/",
          "height": 265
        },
        "id": "jm7Yrsmns0U_",
        "outputId": "76690e5c-9ba3-4484-bd95-8766e8c64e45"
      },
      "outputs": [
        {
          "output_type": "display_data",
          "data": {
            "text/plain": [
              "<Figure size 432x288 with 1 Axes>"
            ],
            "image/png": "[encoded data removed]"
          },
          "metadata": {
            "needs_background": "light"
          }
        }
      ],
      "source": [
        "#均匀分布的随机样本值\n",
        "x_data = np.random.rand(100)\n",
        "noise = np.random.normal(0,0.01,x_data.shape)\n",
        "y_data = x_data*0.1 + 0.2 + noise\n",
        "\n",
        "plt.scatter(x_data,y_data)\n",
        "plt.show()"
      ]
    },
    {
      "cell_type": "code",
      "execution_count": 10,
      "metadata": {
        "collapsed": true,
        "id": "Srgewz9as0VA"
      },
      "outputs": [],
      "source": [
        "x_data = x_data.reshape(-1,1)\n",
        "y_data = y_data.reshape(-1,1)"
      ]
    },
    {
      "cell_type": "code",
      "execution_count": 11,
      "metadata": {
        "collapsed": true,
        "id": "kXkgLw4zs0VA"
      },
      "outputs": [],
      "source": [
        "# 把numpy数据变成tensor\n",
        "x_data = torch.FloatTensor(x_data)\n",
        "y_data = torch.FloatTensor(y_data)\n",
        "inputs = Variable(x_data)\n",
        "target = Variable(y_data)"
      ]
    },
    {
      "cell_type": "code",
      "execution_count": 12,
      "metadata": {
        "collapsed": true,
        "id": "dSXO4_y6s0VB"
      },
      "outputs": [],
      "source": [
        "# 构建神经网络模型\n",
        "# 一般把网络中具有可学习参数的层放在__init__()中\n",
        "class LinearRegression(nn.Module):\n",
        "    # 定义网络结构\n",
        "    def __init__(self):\n",
        "        # 初始化nn.Module\n",
        "        super(LinearRegression, self).__init__()\n",
        "        self.fc = nn.Linear(1,1)\n",
        "        \n",
        "    # 定义网络计算\n",
        "    def forward(self,x):\n",
        "        out = self.fc(x)\n",
        "        return out"
      ]
    },
    {
      "cell_type": "markdown",
      "source": [],
      "metadata": {
        "id": "LhoPhNM_CCxN"
      }
    },
    {
      "cell_type": "code",
      "execution_count": 14,
      "metadata": {
        "id": "nvBgpIfSs0VB"
      },
      "outputs": [],
      "source": [
        "# 定义模型\n",
        "model = LinearRegression()\n",
        "# 定义代价函数\n",
        "mse_loss = nn.MSELoss()\n",
        "# 定义优化器\n",
        "optimizer = optim.SGD(model.parameters(), lr=0.1)"
      ]
    },
    {
      "cell_type": "code",
      "execution_count": 15,
      "metadata": {
        "colab": {
          "base_uri": "https://localhost:8080/"
        },
        "id": "pKlhnc8gs0VC",
        "outputId": "94e6b914-75db-4d2b-da63-eb053d6bacf5"
      },
      "outputs": [
        {
          "output_type": "stream",
          "name": "stdout",
          "text": [
            "name:fc.weight, param:Parameter containing:\n",
            "tensor([[0.1452]], requires_grad=True)\n",
            "name:fc.bias, param:Parameter containing:\n",
            "tensor([-0.2391], requires_grad=True)\n"
          ]
        }
      ],
      "source": [
        "for name, parameters in model.named_parameters():\n",
        "    print('name:{}, param:{}'.format(name,parameters))"
      ]
    },
    {
      "cell_type": "code",
      "execution_count": 16,
      "metadata": {
        "colab": {
          "base_uri": "https://localhost:8080/"
        },
        "id": "nK4fgr6Fs0VC",
        "outputId": "ba607951-d22e-4084-c034-bfc154efc562"
      },
      "outputs": [
        {
          "output_type": "stream",
          "name": "stdout",
          "text": [
            "0 0.17312511801719666\n",
            "200 0.00011642437311820686\n",
            "400 9.349398169433698e-05\n",
            "600 9.337619849247858e-05\n",
            "800 9.337558731203899e-05\n",
            "1000 9.33755945879966e-05\n"
          ]
        }
      ],
      "source": [
        "for i in range(1001):\n",
        "    out = model(inputs)\n",
        "    # 计算loss\n",
        "    loss = mse_loss(out, target)\n",
        "    # 梯度清0\n",
        "    optimizer.zero_grad()\n",
        "    # 计算梯度\n",
        "    loss.backward()\n",
        "    # 修改权值\n",
        "    optimizer.step()\n",
        "    if i%200 == 0:\n",
        "        print(i,loss.item())"
      ]
    },
    {
      "cell_type": "code",
      "execution_count": 17,
      "metadata": {
        "colab": {
          "base_uri": "https://localhost:8080/",
          "height": 265
        },
        "id": "1yxuBJG2s0VD",
        "outputId": "1f63773b-62e6-4da7-90a3-096b19a08f09"
      },
      "outputs": [
        {
          "output_type": "display_data",
          "data": {
            "text/plain": [
              "<Figure size 432x288 with 1 Axes>"
            ],
            "image/png": "[encoded data removed]"
          },
          "metadata": {
            "needs_background": "light"
          }
        }
      ],
      "source": [
        "y_pred = model(inputs)\n",
        "plt.scatter(x_data,y_data)\n",
        "plt.plot(x_data,y_pred.data.numpy(),'r-',lw=3)\n",
        "plt.show()"
      ]
    },
    {
      "cell_type": "code",
      "execution_count": null,
      "metadata": {
        "collapsed": true,
        "id": "lmxhQ7vIs0VD"
      },
      "outputs": [],
      "source": []
    }
  ],
  "metadata": {
    "kernelspec": {
      "display_name": "Python [default]",
      "language": "python",
      "name": "python3"
    },
    "language_info": {
      "codemirror_mode": {
        "name": "ipython",
        "version": 3
      },
      "file_extension": ".py",
      "mimetype": "text/x-python",
      "name": "python",
      "nbconvert_exporter": "python",
      "pygments_lexer": "ipython3",
      "version": "3.5.2"
    },
    "colab": {
      "provenance": []
    }
  },
  "nbformat": 4,
  "nbformat_minor": 0
}