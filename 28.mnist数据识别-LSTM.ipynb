{
 "cells": [
  {
   "cell_type": "code",
   "execution_count": 5,
   "metadata": {
    "collapsed": false
   },
   "outputs": [],
   "source": [
    "import torch\n",
    "import torch.nn as nn\n",
    "import torch.optim as optim\n",
    "from torchvision import datasets, transforms\n",
    "from torch.utils.data import DataLoader"
   ]
  },
  {
   "cell_type": "code",
   "execution_count": 6,
   "metadata": {
    "collapsed": true
   },
   "outputs": [],
   "source": [
    "# 下载训练集\n",
    "train_dataset = datasets.MNIST(root='./',\n",
    "                train=True,\n",
    "                transform=transforms.ToTensor(),\n",
    "                download=True)\n",
    "# 下载测试集\n",
    "test_dataset = datasets.MNIST(root='./',\n",
    "               train=False,\n",
    "               transform=transforms.ToTensor(),\n",
    "               download=True)"
   ]
  },
  {
   "cell_type": "code",
   "execution_count": 7,
   "metadata": {
    "collapsed": true
   },
   "outputs": [],
   "source": [
    "# 批次大小\n",
    "batch_size = 64\n",
    "\n",
    "# 装载训练集\n",
    "train_loader = DataLoader(dataset=train_dataset,\n",
    "                      batch_size=batch_size,\n",
    "                      shuffle=True)\n",
    "# 装载测试集\n",
    "test_loader = DataLoader(dataset=test_dataset,\n",
    "                     batch_size=batch_size,\n",
    "                     shuffle=True)"
   ]
  },
  {
   "cell_type": "code",
   "execution_count": 8,
   "metadata": {
    "collapsed": false
   },
   "outputs": [
    {
     "name": "stdout",
     "output_type": "stream",
     "text": [
      "torch.Size([64, 1, 28, 28])\n",
      "torch.Size([64])\n"
     ]
    }
   ],
   "source": [
    "for i, data in enumerate(train_loader):\n",
    "    # 获得数据和对应的标签\n",
    "    inputs, labels = data\n",
    "    print(inputs.shape)\n",
    "    print(labels.shape)\n",
    "    break"
   ]
  },
  {
   "cell_type": "code",
   "execution_count": 17,
   "metadata": {
    "collapsed": true
   },
   "outputs": [],
   "source": [
    "# 定义网络结构\n",
    "# input_size输入特征的大小\n",
    "# hidden_size，LSTM模块的数量\n",
    "# num_layers，LSTM的层数\n",
    "# LSTM默认input(seq_len, batch, feature)\n",
    "# batch_first=True,input和output(batch, seq_len, feature)\n",
    "class LSTM(nn.Module):\n",
    "    def __init__(self):\n",
    "        super(LSTM, self).__init__()\n",
    "        self.lstm = torch.nn.LSTM(\n",
    "            input_size=28,\n",
    "            hidden_size=64,\n",
    "            num_layers=1,\n",
    "            batch_first=True\n",
    "        )\n",
    "        self.out = torch.nn.Linear(in_features=64,out_features=10)\n",
    "        self.softmax = torch.nn.Softmax(dim=1)\n",
    "        \n",
    "    def forward(self, x):\n",
    "        # (batch, seq_len, feature)\n",
    "        x = x.view(-1,28,28)\n",
    "        # output:[batch, seq_len, hidden_size]包含每个序列的输出结果\n",
    "        # 虽然LSTM的batch_first为True，但是h_n,c_n的第0个维度还是num_layers\n",
    "        # h_n:[num_layers, batch, hidden_size]只包含最后一个序列的输出结果\n",
    "        # c_n:[num_layers, batch, hidden_size]只包含最后一个序列的输出结果\n",
    "        output,(h_n,c_n) = self.lstm(x)\n",
    "        output_in_last_timestep = h_n[-1,:,:]\n",
    "        x = self.out(output_in_last_timestep)\n",
    "        x = self.softmax(x)\n",
    "        return x"
   ]
  },
  {
   "cell_type": "code",
   "execution_count": 18,
   "metadata": {
    "collapsed": false
   },
   "outputs": [],
   "source": [
    "LR = 0.0003\n",
    "# 定义模型\n",
    "model = LSTM()\n",
    "# 定义代价函数\n",
    "entropy_loss = nn.CrossEntropyLoss()\n",
    "# 定义优化器\n",
    "optimizer = optim.Adam(model.parameters(), LR)"
   ]
  },
  {
   "cell_type": "code",
   "execution_count": 19,
   "metadata": {
    "collapsed": true
   },
   "outputs": [],
   "source": [
    "def train():\n",
    "    model.train()\n",
    "    for i, data in enumerate(train_loader):\n",
    "        # 获得数据和对应的标签\n",
    "        inputs, labels = data\n",
    "        # 获得模型预测结果，（64，10）\n",
    "        out = model(inputs)\n",
    "        # 交叉熵代价函数out(batch,C),labels(batch)\n",
    "        loss = entropy_loss(out, labels)\n",
    "        # 梯度清0\n",
    "        optimizer.zero_grad()\n",
    "        # 计算梯度\n",
    "        loss.backward()\n",
    "        # 修改权值\n",
    "        optimizer.step()\n",
    "\n",
    "\n",
    "def test():\n",
    "    model.eval()\n",
    "    correct = 0\n",
    "    for i, data in enumerate(test_loader):\n",
    "        # 获得数据和对应的标签\n",
    "        inputs, labels = data\n",
    "        # 获得模型预测结果\n",
    "        out = model(inputs)\n",
    "        # 获得最大值，以及最大值所在的位置\n",
    "        _, predicted = torch.max(out, 1)\n",
    "        # 预测正确的数量\n",
    "        correct += (predicted == labels).sum()\n",
    "    print(\"Test acc: {0}\".format(correct.item() / len(test_dataset)))\n",
    "    \n",
    "    correct = 0\n",
    "    for i, data in enumerate(train_loader):\n",
    "        # 获得数据和对应的标签\n",
    "        inputs, labels = data\n",
    "        # 获得模型预测结果\n",
    "        out = model(inputs)\n",
    "        # 获得最大值，以及最大值所在的位置\n",
    "        _, predicted = torch.max(out, 1)\n",
    "        # 预测正确的数量\n",
    "        correct += (predicted == labels).sum()\n",
    "    print(\"Train acc: {0}\".format(correct.item() / len(train_dataset)))"
   ]
  },
  {
   "cell_type": "code",
   "execution_count": 20,
   "metadata": {
    "collapsed": false
   },
   "outputs": [
    {
     "name": "stdout",
     "output_type": "stream",
     "text": [
      "epoch: 0\n",
      "Test acc: 0.6477\n",
      "Train acc: 0.6508333333333334\n",
      "epoch: 1\n",
      "Test acc: 0.7408\n",
      "Train acc: 0.7359333333333333\n",
      "epoch: 2\n",
      "Test acc: 0.8322\n",
      "Train acc: 0.8248833333333333\n",
      "epoch: 3\n",
      "Test acc: 0.8949\n",
      "Train acc: 0.8929333333333334\n",
      "epoch: 4\n",
      "Test acc: 0.9206\n",
      "Train acc: 0.9210833333333334\n",
      "epoch: 5\n",
      "Test acc: 0.9196\n",
      "Train acc: 0.9244\n",
      "epoch: 6\n",
      "Test acc: 0.9358\n",
      "Train acc: 0.9337\n",
      "epoch: 7\n",
      "Test acc: 0.9423\n",
      "Train acc: 0.9434666666666667\n",
      "epoch: 8\n",
      "Test acc: 0.9489\n",
      "Train acc: 0.9492\n",
      "epoch: 9\n",
      "Test acc: 0.9363\n",
      "Train acc: 0.9340333333333334\n"
     ]
    }
   ],
   "source": [
    "for epoch in range(0, 10):\n",
    "    print('epoch:',epoch)\n",
    "    train()\n",
    "    test()"
   ]
  },
  {
   "cell_type": "code",
   "execution_count": null,
   "metadata": {
    "collapsed": true
   },
   "outputs": [],
   "source": []
  },
  {
   "cell_type": "code",
   "execution_count": null,
   "metadata": {
    "collapsed": true
   },
   "outputs": [],
   "source": []
  },
  {
   "cell_type": "code",
   "execution_count": null,
   "metadata": {
    "collapsed": true
   },
   "outputs": [],
   "source": []
  }
 ],
 "metadata": {
  "anaconda-cloud": {},
  "kernelspec": {
   "display_name": "Python [default]",
   "language": "python",
   "name": "python3"
  },
  "language_info": {
   "codemirror_mode": {
    "name": "ipython",
    "version": 3
   },
   "file_extension": ".py",
   "mimetype": "text/x-python",
   "name": "python",
   "nbconvert_exporter": "python",
   "pygments_lexer": "ipython3",
   "version": "3.5.2"
  }
 },
 "nbformat": 4,
 "nbformat_minor": 2
}
