{
  "nbformat": 4,
  "nbformat_minor": 0,
  "metadata": {
    "colab": {
      "provenance": [],
      "toc_visible": true,
      "authorship_tag": "ABX9TyNEGrQB+7v5x7CRQefMmYkI",
      "include_colab_link": true
    },
    "kernelspec": {
      "name": "python3",
      "display_name": "Python 3"
    },
    "language_info": {
      "name": "python"
    }
  },
  "cells": [
    {
      "cell_type": "markdown",
      "metadata": {
        "id": "view-in-github",
        "colab_type": "text"
      },
      "source": [
        "<a href=\"https://colab.research.google.com/github/stanshi2016/pytorch_learning/blob/main/%E5%BC%A0%E9%87%8F.ipynb\" target=\"_parent\"><img src=\"https://colab.research.google.com/assets/colab-badge.svg\" alt=\"Open In Colab\"/></a>"
      ]
    },
    {
      "cell_type": "code",
      "execution_count": 1,
      "metadata": {
        "id": "BuxtOB6dT4Zu"
      },
      "outputs": [],
      "source": [
        "import numpy as np\n",
        "import torch "
      ]
    },
    {
      "cell_type": "code",
      "source": [
        "np.array([1,2,3])"
      ],
      "metadata": {
        "colab": {
          "base_uri": "https://localhost:8080/"
        },
        "id": "qwlpoZ6TUdOq",
        "outputId": "2409cc7a-2030-4b16-8318-9cff2cd6dfd1"
      },
      "execution_count": null,
      "outputs": [
        {
          "output_type": "execute_result",
          "data": {
            "text/plain": [
              "array([1, 2, 3])"
            ]
          },
          "metadata": {},
          "execution_count": 3
        }
      ]
    },
    {
      "cell_type": "code",
      "source": [
        "torch.tensor([1,2,3])"
      ],
      "metadata": {
        "colab": {
          "base_uri": "https://localhost:8080/"
        },
        "id": "BWaJhbEgUooV",
        "outputId": "54f3c2a1-d094-420a-ba98-e79c05412a8c"
      },
      "execution_count": null,
      "outputs": [
        {
          "output_type": "execute_result",
          "data": {
            "text/plain": [
              "tensor([1, 2, 3])"
            ]
          },
          "metadata": {},
          "execution_count": 4
        }
      ]
    },
    {
      "cell_type": "markdown",
      "source": [
        "# tensor相关的函数和运算"
      ],
      "metadata": {
        "id": "Q873pwvwVMLq"
      }
    },
    {
      "cell_type": "code",
      "source": [
        "torch.empty(5,3)"
      ],
      "metadata": {
        "colab": {
          "base_uri": "https://localhost:8080/"
        },
        "id": "ZZUZIyJDUxoQ",
        "outputId": "f0ca08eb-1eb7-4705-c51b-bebc2d5c7216"
      },
      "execution_count": 39,
      "outputs": [
        {
          "output_type": "execute_result",
          "data": {
            "text/plain": [
              "tensor([[3.4413e-34, 0.0000e+00, 3.5032e-44],\n",
              "        [0.0000e+00,        nan, 6.4460e-44],\n",
              "        [1.1578e+27, 7.1463e+22, 4.6241e+30],\n",
              "        [1.0552e+24, 5.5757e-02, 1.8728e+31],\n",
              "        [5.9571e-02, 7.0374e+22, 1.0177e+31]])"
            ]
          },
          "metadata": {},
          "execution_count": 39
        }
      ]
    },
    {
      "cell_type": "code",
      "source": [
        "a= torch.randn(5,3) #随机初始化的矩阵,包括以后一些网络模型,想去确认一些维度, 模型结构, 可能需要一些数据投喂\n",
        "print(a)\n",
        "a.type()\n",
        "isinstance(a,torch.FloatTensor)"
      ],
      "metadata": {
        "colab": {
          "base_uri": "https://localhost:8080/"
        },
        "id": "RNnIRuPgVTRU",
        "outputId": "250cad22-b195-473c-debb-083b6dd6c2de"
      },
      "execution_count": 8,
      "outputs": [
        {
          "output_type": "stream",
          "name": "stdout",
          "text": [
            "tensor([[ 0.4439, -0.4880,  0.8345],\n",
            "        [-1.8258,  0.8870, -1.7187],\n",
            "        [-2.1372, -1.3248,  1.8699],\n",
            "        [ 0.1340,  0.0604,  1.1119],\n",
            "        [-0.2472,  1.0911,  1.4499]])\n"
          ]
        },
        {
          "output_type": "execute_result",
          "data": {
            "text/plain": [
              "True"
            ]
          },
          "metadata": {},
          "execution_count": 8
        }
      ]
    },
    {
      "cell_type": "code",
      "source": [
        "a = torch.ones(2)\n",
        "a.shape\n",
        "a"
      ],
      "metadata": {
        "id": "pnD7TbKbdKls",
        "outputId": "69c4fe1f-740b-46ed-f636-4ba70deb1ebf",
        "colab": {
          "base_uri": "https://localhost:8080/"
        }
      },
      "execution_count": 23,
      "outputs": [
        {
          "output_type": "execute_result",
          "data": {
            "text/plain": [
              "tensor([1., 1.])"
            ]
          },
          "metadata": {},
          "execution_count": 23
        }
      ]
    },
    {
      "cell_type": "code",
      "source": [
        "a = torch.randn(2,3)\n",
        "print(a)\n",
        "a.shape"
      ],
      "metadata": {
        "id": "rxSRnPM3eCu7",
        "outputId": "61d93675-2155-45e6-dcaa-648abdbbf71b",
        "colab": {
          "base_uri": "https://localhost:8080/"
        }
      },
      "execution_count": 29,
      "outputs": [
        {
          "output_type": "stream",
          "name": "stdout",
          "text": [
            "tensor([[-0.2125,  0.3487,  0.1106],\n",
            "        [-0.9305, -1.5435,  0.5145]])\n"
          ]
        },
        {
          "output_type": "execute_result",
          "data": {
            "text/plain": [
              "torch.Size([2, 3])"
            ]
          },
          "metadata": {},
          "execution_count": 29
        }
      ]
    },
    {
      "cell_type": "code",
      "source": [
        "a = torch.rand(1,2,3)\n",
        "print(a)\n",
        "a.shape"
      ],
      "metadata": {
        "id": "mtJoyaBjex8M",
        "outputId": "338aabde-fa31-456a-92b3-d68fc292b9d8",
        "colab": {
          "base_uri": "https://localhost:8080/"
        }
      },
      "execution_count": 28,
      "outputs": [
        {
          "output_type": "stream",
          "name": "stdout",
          "text": [
            "tensor([[[0.6831, 0.1879, 0.9039],\n",
            "         [0.7637, 0.6026, 0.2383]]])\n"
          ]
        },
        {
          "output_type": "execute_result",
          "data": {
            "text/plain": [
              "torch.Size([1, 2, 3])"
            ]
          },
          "metadata": {},
          "execution_count": 28
        }
      ]
    },
    {
      "cell_type": "code",
      "source": [
        "a = torch.rand(2,3,28,28)\n",
        "print(a)\n",
        "#number of element\n",
        "print(a.numel())\n"
      ],
      "metadata": {
        "id": "qlOo5ZvofMmv",
        "outputId": "7a805481-ce2a-4846-9d13-c15d60d3e4c4",
        "colab": {
          "base_uri": "https://localhost:8080/"
        }
      },
      "execution_count": 31,
      "outputs": [
        {
          "output_type": "stream",
          "name": "stdout",
          "text": [
            "tensor([[[[0.6261, 0.4780, 0.9029,  ..., 0.0170, 0.7079, 0.5700],\n",
            "          [0.5759, 0.7777, 0.1624,  ..., 0.2332, 0.3689, 0.0304],\n",
            "          [0.4826, 0.1405, 0.7414,  ..., 0.0722, 0.2723, 0.4731],\n",
            "          ...,\n",
            "          [0.2288, 0.1831, 0.0038,  ..., 0.4756, 0.8510, 0.5651],\n",
            "          [0.7857, 0.9140, 0.4675,  ..., 0.2387, 0.1604, 0.2456],\n",
            "          [0.5182, 0.9328, 0.3824,  ..., 0.9418, 0.5508, 0.0867]],\n",
            "\n",
            "         [[0.6129, 0.9834, 0.5727,  ..., 0.9800, 0.5135, 0.1175],\n",
            "          [0.0432, 0.9553, 0.6526,  ..., 0.1737, 0.3282, 0.7438],\n",
            "          [0.9419, 0.2419, 0.5693,  ..., 0.9569, 0.4746, 0.3685],\n",
            "          ...,\n",
            "          [0.1014, 0.2100, 0.0318,  ..., 0.6533, 0.9005, 0.2846],\n",
            "          [0.9998, 0.5715, 0.2495,  ..., 0.2854, 0.9201, 0.9925],\n",
            "          [0.1473, 0.5682, 0.3735,  ..., 0.1784, 0.2156, 0.1310]],\n",
            "\n",
            "         [[0.2635, 0.7283, 0.1461,  ..., 0.6373, 0.4762, 0.9782],\n",
            "          [0.0483, 0.1512, 0.8746,  ..., 0.4713, 0.5418, 0.9659],\n",
            "          [0.2819, 0.9162, 0.2230,  ..., 0.5361, 0.0162, 0.9729],\n",
            "          ...,\n",
            "          [0.7286, 0.6768, 0.9155,  ..., 0.6527, 0.7457, 0.8321],\n",
            "          [0.5599, 0.4387, 0.8949,  ..., 0.2282, 0.7539, 0.2005],\n",
            "          [0.5876, 0.2513, 0.8204,  ..., 0.7115, 0.6696, 0.9676]]],\n",
            "\n",
            "\n",
            "        [[[0.2134, 0.5770, 0.1004,  ..., 0.1322, 0.5073, 0.5183],\n",
            "          [0.2636, 0.2733, 0.9969,  ..., 0.1845, 0.4887, 0.3198],\n",
            "          [0.3084, 0.8302, 0.2353,  ..., 0.8273, 0.9426, 0.4383],\n",
            "          ...,\n",
            "          [0.4203, 0.0864, 0.4409,  ..., 0.3708, 0.1435, 0.4242],\n",
            "          [0.2947, 0.0888, 0.7203,  ..., 0.5846, 0.9913, 0.1407],\n",
            "          [0.8413, 0.6699, 0.5637,  ..., 0.5757, 0.6305, 0.9973]],\n",
            "\n",
            "         [[0.4489, 0.7513, 0.6567,  ..., 0.0461, 0.4107, 0.3314],\n",
            "          [0.3992, 0.7045, 0.0894,  ..., 0.8935, 0.9896, 0.9365],\n",
            "          [0.5203, 0.0386, 0.0509,  ..., 0.6183, 0.3127, 0.6258],\n",
            "          ...,\n",
            "          [0.0265, 0.4908, 0.5791,  ..., 0.3712, 0.5478, 0.5422],\n",
            "          [0.5205, 0.4619, 0.6893,  ..., 0.6967, 0.0974, 0.2462],\n",
            "          [0.2987, 0.7530, 0.1407,  ..., 0.0585, 0.7453, 0.3524]],\n",
            "\n",
            "         [[0.6758, 0.2621, 0.7146,  ..., 0.0233, 0.8511, 0.1165],\n",
            "          [0.1338, 0.0485, 0.7010,  ..., 0.7066, 0.8118, 0.4934],\n",
            "          [0.9007, 0.1773, 0.9248,  ..., 0.7908, 0.8123, 0.5778],\n",
            "          ...,\n",
            "          [0.2844, 0.7330, 0.0021,  ..., 0.4573, 0.2958, 0.3981],\n",
            "          [0.1592, 0.4447, 0.9903,  ..., 0.5452, 0.2287, 0.6685],\n",
            "          [0.1026, 0.4047, 0.4704,  ..., 0.4671, 0.5693, 0.4225]]]])\n",
            "4704\n"
          ]
        }
      ]
    },
    {
      "cell_type": "markdown",
      "source": [
        "创建Tensor"
      ],
      "metadata": {
        "id": "ioMJ8xUpfvKM"
      }
    },
    {
      "cell_type": "code",
      "source": [
        "a = np.array([2,3.3])\n",
        "torch.from_numpy(a)\n",
        "\n",
        "a = np.ones([2,3])\n",
        "torch.from_numpy(a)\n"
      ],
      "metadata": {
        "id": "OSa4ukErf0rc",
        "outputId": "a17646b0-984f-49e3-8cc1-f0852642a813",
        "colab": {
          "base_uri": "https://localhost:8080/"
        }
      },
      "execution_count": 35,
      "outputs": [
        {
          "output_type": "execute_result",
          "data": {
            "text/plain": [
              "tensor([[1., 1., 1.],\n",
              "        [1., 1., 1.]], dtype=torch.float64)"
            ]
          },
          "metadata": {},
          "execution_count": 35
        }
      ]
    },
    {
      "cell_type": "code",
      "source": [
        "torch.tensor([2.,3.2])\n",
        "torch.FloatTensor([2.,3.2])\n",
        "torch.tensor([[2.,3.2], [1.,22.3]])"
      ],
      "metadata": {
        "id": "EECPGFxhgTID",
        "outputId": "b4a375db-f6a1-48c7-d247-864117e545c7",
        "colab": {
          "base_uri": "https://localhost:8080/"
        }
      },
      "execution_count": 38,
      "outputs": [
        {
          "output_type": "execute_result",
          "data": {
            "text/plain": [
              "tensor([[ 2.0000,  3.2000],\n",
              "        [ 1.0000, 22.3000]])"
            ]
          },
          "metadata": {},
          "execution_count": 38
        }
      ]
    },
    {
      "cell_type": "markdown",
      "source": [
        "# 随机初始化\n"
      ],
      "metadata": {
        "id": "ae0SaUnli8I_"
      }
    },
    {
      "cell_type": "code",
      "source": [
        "torch.rand(3,3) #0~1均匀采样"
      ],
      "metadata": {
        "id": "wB1AuLc3jDTu",
        "outputId": "24b35b6c-6185-4a8b-be9c-de12e349a13d",
        "colab": {
          "base_uri": "https://localhost:8080/"
        }
      },
      "execution_count": 40,
      "outputs": [
        {
          "output_type": "execute_result",
          "data": {
            "text/plain": [
              "tensor([[8.9318e-01, 9.1115e-02, 8.7506e-01],\n",
              "        [4.1937e-01, 3.9915e-01, 4.4245e-04],\n",
              "        [9.0303e-01, 9.7889e-01, 8.7829e-01]])"
            ]
          },
          "metadata": {},
          "execution_count": 40
        }
      ]
    },
    {
      "cell_type": "code",
      "source": [
        "a = torch.rand(3,3)\n",
        "torch.rand_like(a)"
      ],
      "metadata": {
        "id": "JM37_vJNjUT1",
        "outputId": "071d172e-8dcc-44ef-8b12-a41e01c6b8db",
        "colab": {
          "base_uri": "https://localhost:8080/"
        }
      },
      "execution_count": 41,
      "outputs": [
        {
          "output_type": "execute_result",
          "data": {
            "text/plain": [
              "tensor([[0.0120, 0.9759, 0.1010],\n",
              "        [0.0188, 0.6716, 0.1027],\n",
              "        [0.1780, 0.5572, 0.1909]])"
            ]
          },
          "metadata": {},
          "execution_count": 41
        }
      ]
    },
    {
      "cell_type": "code",
      "source": [
        "torch.randint(1,10,[3,3])"
      ],
      "metadata": {
        "id": "KC29MBeQjiJ1",
        "outputId": "e1e615f2-3017-4172-a45c-ab800eb8319f",
        "colab": {
          "base_uri": "https://localhost:8080/"
        }
      },
      "execution_count": 42,
      "outputs": [
        {
          "output_type": "execute_result",
          "data": {
            "text/plain": [
              "tensor([[2, 9, 1],\n",
              "        [1, 2, 5],\n",
              "        [4, 1, 4]])"
            ]
          },
          "metadata": {},
          "execution_count": 42
        }
      ]
    },
    {
      "cell_type": "code",
      "source": [
        "torch.randn(3,3) #N(0,1)均值为0,方差为1"
      ],
      "metadata": {
        "id": "MIyiGJ-7jujR",
        "outputId": "dec2e956-3bdc-4041-ac0f-1b051b05854d",
        "colab": {
          "base_uri": "https://localhost:8080/"
        }
      },
      "execution_count": 43,
      "outputs": [
        {
          "output_type": "execute_result",
          "data": {
            "text/plain": [
              "tensor([[ 0.2672, -1.6671, -1.0207],\n",
              "        [-0.9693,  1.3274,  0.0624],\n",
              "        [ 0.7183,  0.4622, -0.3749]])"
            ]
          },
          "metadata": {},
          "execution_count": 43
        }
      ]
    },
    {
      "cell_type": "code",
      "source": [
        "torch.full([2,3],7)"
      ],
      "metadata": {
        "id": "NY8zzKFQk4or",
        "outputId": "84dece59-4567-4f65-d342-eb96e0f84c7a",
        "colab": {
          "base_uri": "https://localhost:8080/"
        }
      },
      "execution_count": 44,
      "outputs": [
        {
          "output_type": "execute_result",
          "data": {
            "text/plain": [
              "tensor([[7, 7, 7],\n",
              "        [7, 7, 7]])"
            ]
          },
          "metadata": {},
          "execution_count": 44
        }
      ]
    },
    {
      "cell_type": "code",
      "source": [
        "torch.arange(0,10)\n",
        "torch.arange(0,10,2)"
      ],
      "metadata": {
        "id": "8QZPQMrZlriS",
        "outputId": "64874dcb-16ae-4e2f-d67c-3bdfa7d5a187",
        "colab": {
          "base_uri": "https://localhost:8080/"
        }
      },
      "execution_count": 46,
      "outputs": [
        {
          "output_type": "execute_result",
          "data": {
            "text/plain": [
              "tensor([0, 2, 4, 6, 8])"
            ]
          },
          "metadata": {},
          "execution_count": 46
        }
      ]
    },
    {
      "cell_type": "code",
      "source": [
        "torch.linspace(0,10,steps=4)\n",
        "torch.linspace(0,10,steps=10)\n",
        "torch.linspace(0,10,steps=11)\n",
        "torch.logspace(0,-1,steps=10)"
      ],
      "metadata": {
        "id": "eiYgQsp7l4pt",
        "outputId": "c2e4cf22-32e9-4d50-f75e-a865d9a2c6e1",
        "colab": {
          "base_uri": "https://localhost:8080/"
        }
      },
      "execution_count": 50,
      "outputs": [
        {
          "output_type": "execute_result",
          "data": {
            "text/plain": [
              "tensor([1.0000, 0.7743, 0.5995, 0.4642, 0.3594, 0.2783, 0.2154, 0.1668, 0.1292,\n",
              "        0.1000])"
            ]
          },
          "metadata": {},
          "execution_count": 50
        }
      ]
    },
    {
      "cell_type": "code",
      "source": [
        "torch.ones(3,3)\n",
        "torch.zeros(3,3)\n",
        "torch.eye(3,4)"
      ],
      "metadata": {
        "id": "zuD5UeNRmfoU",
        "outputId": "57b7b4df-c330-4e4e-d52c-2c8351b2ff79",
        "colab": {
          "base_uri": "https://localhost:8080/"
        }
      },
      "execution_count": 52,
      "outputs": [
        {
          "output_type": "execute_result",
          "data": {
            "text/plain": [
              "tensor([[1., 0., 0., 0.],\n",
              "        [0., 1., 0., 0.],\n",
              "        [0., 0., 1., 0.]])"
            ]
          },
          "metadata": {},
          "execution_count": 52
        }
      ]
    },
    {
      "cell_type": "code",
      "source": [
        "torch.randperm(10)\n",
        "a = torch.rand(2,3)\n",
        "print(a)\n",
        "a[[1,0]]\n",
        "\n",
        "idx = torch.randperm(2)\n",
        "a[idx] \n"
      ],
      "metadata": {
        "id": "Z5fFy975nUpd",
        "outputId": "a514dfe7-6ec5-49fe-e5ae-e904b2a388d4",
        "colab": {
          "base_uri": "https://localhost:8080/"
        }
      },
      "execution_count": 56,
      "outputs": [
        {
          "output_type": "stream",
          "name": "stdout",
          "text": [
            "tensor([[0.6007, 0.5841, 0.9029],\n",
            "        [0.3679, 0.7625, 0.2678]])\n"
          ]
        },
        {
          "output_type": "execute_result",
          "data": {
            "text/plain": [
              "tensor([[0.3679, 0.7625, 0.2678],\n",
              "        [0.6007, 0.5841, 0.9029]])"
            ]
          },
          "metadata": {},
          "execution_count": 56
        }
      ]
    },
    {
      "cell_type": "code",
      "source": [
        "torch.zeros(5,3,dtype=torch.long) #x+y 训练这样一个映射,神经网络y truth_label one-hot表示"
      ],
      "metadata": {
        "colab": {
          "base_uri": "https://localhost:8080/"
        },
        "id": "grqSrmRTV61X",
        "outputId": "b3ef9d0f-fa33-492a-ad3c-e9f3e2bab351"
      },
      "execution_count": null,
      "outputs": [
        {
          "output_type": "execute_result",
          "data": {
            "text/plain": [
              "tensor([[0, 0, 0],\n",
              "        [0, 0, 0],\n",
              "        [0, 0, 0],\n",
              "        [0, 0, 0],\n",
              "        [0, 0, 0]])"
            ]
          },
          "metadata": {},
          "execution_count": 10
        }
      ]
    },
    {
      "cell_type": "code",
      "source": [
        "torch.tensor(1.)\n",
        "torch.tensor(1.3)\n",
        "a = torch.tensor(2.2)\n",
        "a.shape\n",
        "a.size()"
      ],
      "metadata": {
        "id": "pX4cwVhqZ-h1",
        "outputId": "1da90c96-ab1a-4588-beb6-b25448bcb5a1",
        "colab": {
          "base_uri": "https://localhost:8080/"
        }
      },
      "execution_count": 15,
      "outputs": [
        {
          "output_type": "execute_result",
          "data": {
            "text/plain": [
              "torch.Size([])"
            ]
          },
          "metadata": {},
          "execution_count": 15
        }
      ]
    },
    {
      "cell_type": "code",
      "source": [
        "torch.tensor([1.1])\n",
        "torch.tensor([1.1,2.2])\n",
        "torch.FloatTensor(2)\n",
        "data = np.ones(2)\n",
        "torch.from_numpy(data)"
      ],
      "metadata": {
        "id": "KaF17xv9bfLP",
        "outputId": "d733c55c-a29d-47ec-f9b2-925c84f36cf4",
        "colab": {
          "base_uri": "https://localhost:8080/"
        }
      },
      "execution_count": 20,
      "outputs": [
        {
          "output_type": "execute_result",
          "data": {
            "text/plain": [
              "tensor([1., 1.], dtype=torch.float64)"
            ]
          },
          "metadata": {},
          "execution_count": 20
        }
      ]
    },
    {
      "cell_type": "code",
      "source": [
        "x = torch.tensor([1,2,3])\n",
        "x.new_ones(5,3)"
      ],
      "metadata": {
        "colab": {
          "base_uri": "https://localhost:8080/"
        },
        "id": "ld3E9jxzXDDO",
        "outputId": "bf007628-20be-473c-e345-3f3761f5f281"
      },
      "execution_count": 11,
      "outputs": [
        {
          "output_type": "execute_result",
          "data": {
            "text/plain": [
              "tensor([[1, 1, 1],\n",
              "        [1, 1, 1],\n",
              "        [1, 1, 1],\n",
              "        [1, 1, 1],\n",
              "        [1, 1, 1]])"
            ]
          },
          "metadata": {},
          "execution_count": 11
        }
      ]
    },
    {
      "cell_type": "code",
      "source": [
        "torch.randn_like(x,dtype=torch.float)"
      ],
      "metadata": {
        "colab": {
          "base_uri": "https://localhost:8080/"
        },
        "id": "M8cXG7J6XjkH",
        "outputId": "2a492007-786d-40c0-ed3d-3848463ccba5"
      },
      "execution_count": null,
      "outputs": [
        {
          "output_type": "execute_result",
          "data": {
            "text/plain": [
              "tensor([ 1.0803,  0.2885, -0.8636])"
            ]
          },
          "metadata": {},
          "execution_count": 12
        }
      ]
    },
    {
      "cell_type": "markdown",
      "source": [
        "# 索引与切片"
      ],
      "metadata": {
        "id": "vropg2gFr7f9"
      }
    },
    {
      "cell_type": "code",
      "source": [
        "a = torch.rand(4,3,28,28)\n",
        "a[0].shape\n",
        "a[0,0].shape\n",
        "a[0,0,2,4]"
      ],
      "metadata": {
        "id": "U9h4D0LhsDif",
        "outputId": "b7dc36f0-58a2-48dc-ae0b-4e5f497ebb91",
        "colab": {
          "base_uri": "https://localhost:8080/"
        }
      },
      "execution_count": 60,
      "outputs": [
        {
          "output_type": "execute_result",
          "data": {
            "text/plain": [
              "tensor(0.7720)"
            ]
          },
          "metadata": {},
          "execution_count": 60
        }
      ]
    },
    {
      "cell_type": "code",
      "source": [
        "a[:2].shape"
      ],
      "metadata": {
        "id": "ZEW9url6xTy0",
        "outputId": "3de747ab-cf48-4623-f3f2-5d7d440c626e",
        "colab": {
          "base_uri": "https://localhost:8080/"
        }
      },
      "execution_count": 61,
      "outputs": [
        {
          "output_type": "execute_result",
          "data": {
            "text/plain": [
              "torch.Size([2, 3, 28, 28])"
            ]
          },
          "metadata": {},
          "execution_count": 61
        }
      ]
    },
    {
      "cell_type": "code",
      "source": [
        "a[:2,:1,:,:].shape"
      ],
      "metadata": {
        "id": "bfFPT7zNxZIc",
        "outputId": "aa679118-769d-4457-bb92-9cab3a703729",
        "colab": {
          "base_uri": "https://localhost:8080/"
        }
      },
      "execution_count": 62,
      "outputs": [
        {
          "output_type": "execute_result",
          "data": {
            "text/plain": [
              "torch.Size([2, 1, 28, 28])"
            ]
          },
          "metadata": {},
          "execution_count": 62
        }
      ]
    },
    {
      "cell_type": "code",
      "source": [
        "a[:2,1:,:,:].shape"
      ],
      "metadata": {
        "id": "lYNUL_eOxmqq",
        "outputId": "f5929d78-427f-449f-9b51-1c037c7fba88",
        "colab": {
          "base_uri": "https://localhost:8080/"
        }
      },
      "execution_count": 63,
      "outputs": [
        {
          "output_type": "execute_result",
          "data": {
            "text/plain": [
              "torch.Size([2, 2, 28, 28])"
            ]
          },
          "metadata": {},
          "execution_count": 63
        }
      ]
    },
    {
      "cell_type": "code",
      "source": [
        "a[:2,-1:,:,:].shape"
      ],
      "metadata": {
        "id": "NBbVMDJ2xqwJ",
        "outputId": "25116fff-3b3e-4eb2-c06b-1dcfe0753aea",
        "colab": {
          "base_uri": "https://localhost:8080/"
        }
      },
      "execution_count": 64,
      "outputs": [
        {
          "output_type": "execute_result",
          "data": {
            "text/plain": [
              "torch.Size([2, 1, 28, 28])"
            ]
          },
          "metadata": {},
          "execution_count": 64
        }
      ]
    },
    {
      "cell_type": "code",
      "source": [
        "a[:,:,0:28:2,0:28:2].shape"
      ],
      "metadata": {
        "id": "wZkCSYINydTX",
        "outputId": "fa636570-e990-4126-e0d0-6c8525f39132",
        "colab": {
          "base_uri": "https://localhost:8080/"
        }
      },
      "execution_count": 65,
      "outputs": [
        {
          "output_type": "execute_result",
          "data": {
            "text/plain": [
              "torch.Size([4, 3, 14, 14])"
            ]
          },
          "metadata": {},
          "execution_count": 65
        }
      ]
    },
    {
      "cell_type": "code",
      "source": [
        "a[:,:,::2,::2].shape"
      ],
      "metadata": {
        "id": "TiGHg96lynOr",
        "outputId": "f7792ac0-9f16-4c4a-bd40-609410a8070b",
        "colab": {
          "base_uri": "https://localhost:8080/"
        }
      },
      "execution_count": 66,
      "outputs": [
        {
          "output_type": "execute_result",
          "data": {
            "text/plain": [
              "torch.Size([4, 3, 14, 14])"
            ]
          },
          "metadata": {},
          "execution_count": 66
        }
      ]
    },
    {
      "cell_type": "code",
      "source": [
        "#第0个维度,[0,2]\n",
        "a.index_select(0,torch.tensor([0,2])).shape"
      ],
      "metadata": {
        "id": "DZBk8iklzQJO",
        "outputId": "d81728ef-1451-4708-ce7e-0cd11b961239",
        "colab": {
          "base_uri": "https://localhost:8080/"
        }
      },
      "execution_count": 70,
      "outputs": [
        {
          "output_type": "execute_result",
          "data": {
            "text/plain": [
              "torch.Size([2, 3, 28, 28])"
            ]
          },
          "metadata": {},
          "execution_count": 70
        }
      ]
    },
    {
      "cell_type": "code",
      "source": [
        "a.index_select(1,torch.tensor([1,2])).shape"
      ],
      "metadata": {
        "id": "Q-HC0CMa0OPT",
        "outputId": "da0d0cb6-1bcf-43d2-9e56-d6338bf272eb",
        "colab": {
          "base_uri": "https://localhost:8080/"
        }
      },
      "execution_count": 71,
      "outputs": [
        {
          "output_type": "execute_result",
          "data": {
            "text/plain": [
              "torch.Size([4, 2, 28, 28])"
            ]
          },
          "metadata": {},
          "execution_count": 71
        }
      ]
    },
    {
      "cell_type": "code",
      "source": [
        "a.index_select(2,torch.arange(28)).shape"
      ],
      "metadata": {
        "id": "NzGHVt3e0RcL",
        "outputId": "d7f3ad65-97af-48ca-e139-4c7cd60da1dc",
        "colab": {
          "base_uri": "https://localhost:8080/"
        }
      },
      "execution_count": 72,
      "outputs": [
        {
          "output_type": "execute_result",
          "data": {
            "text/plain": [
              "torch.Size([4, 3, 28, 28])"
            ]
          },
          "metadata": {},
          "execution_count": 72
        }
      ]
    },
    {
      "cell_type": "code",
      "source": [
        "a.index_select(2,torch.arange(8)).shape"
      ],
      "metadata": {
        "id": "dWYBFmSk0fVI",
        "outputId": "e95966cf-b849-4930-ac55-32af298c7d63",
        "colab": {
          "base_uri": "https://localhost:8080/"
        }
      },
      "execution_count": 73,
      "outputs": [
        {
          "output_type": "execute_result",
          "data": {
            "text/plain": [
              "torch.Size([4, 3, 8, 28])"
            ]
          },
          "metadata": {},
          "execution_count": 73
        }
      ]
    },
    {
      "cell_type": "code",
      "source": [
        "# ...代表任意维度\n",
        "a[...].shape"
      ],
      "metadata": {
        "id": "LfugPqfd0jNi",
        "outputId": "23107757-88fc-4568-99b6-39e6535c9f45",
        "colab": {
          "base_uri": "https://localhost:8080/"
        }
      },
      "execution_count": 74,
      "outputs": [
        {
          "output_type": "execute_result",
          "data": {
            "text/plain": [
              "torch.Size([4, 3, 28, 28])"
            ]
          },
          "metadata": {},
          "execution_count": 74
        }
      ]
    },
    {
      "cell_type": "code",
      "source": [
        "a[0,...].shape"
      ],
      "metadata": {
        "id": "6l6p9sbH0n9f",
        "outputId": "2d3a04e1-70fb-4591-95a9-1a25d235a6ce",
        "colab": {
          "base_uri": "https://localhost:8080/"
        }
      },
      "execution_count": 75,
      "outputs": [
        {
          "output_type": "execute_result",
          "data": {
            "text/plain": [
              "torch.Size([3, 28, 28])"
            ]
          },
          "metadata": {},
          "execution_count": 75
        }
      ]
    },
    {
      "cell_type": "code",
      "source": [
        "a[:,1,...].shape"
      ],
      "metadata": {
        "id": "kuzvV9as0q4a",
        "outputId": "d46d4cdc-97f4-4d78-f4a1-fa0e6e9d3395",
        "colab": {
          "base_uri": "https://localhost:8080/"
        }
      },
      "execution_count": 76,
      "outputs": [
        {
          "output_type": "execute_result",
          "data": {
            "text/plain": [
              "torch.Size([4, 28, 28])"
            ]
          },
          "metadata": {},
          "execution_count": 76
        }
      ]
    },
    {
      "cell_type": "code",
      "source": [
        "a[...,:2].shape"
      ],
      "metadata": {
        "id": "VhnvMQa60tbx",
        "outputId": "cc82ec89-942c-4160-c8f4-38476c9f144f",
        "colab": {
          "base_uri": "https://localhost:8080/"
        }
      },
      "execution_count": 77,
      "outputs": [
        {
          "output_type": "execute_result",
          "data": {
            "text/plain": [
              "torch.Size([4, 3, 28, 2])"
            ]
          },
          "metadata": {},
          "execution_count": 77
        }
      ]
    },
    {
      "cell_type": "code",
      "source": [
        "#masked_select() \n",
        "x = torch.randn(3,4)\n",
        "mask = x.ge(0.5)\n",
        "torch.masked_select(x, mask)"
      ],
      "metadata": {
        "id": "zSFSAQis0_oT",
        "outputId": "c61bdb13-c0a3-40c9-e46d-83d428e03ede",
        "colab": {
          "base_uri": "https://localhost:8080/"
        }
      },
      "execution_count": 79,
      "outputs": [
        {
          "output_type": "execute_result",
          "data": {
            "text/plain": [
              "tensor([0.8636, 1.0981, 0.5400, 1.8245, 2.7244])"
            ]
          },
          "metadata": {},
          "execution_count": 79
        }
      ]
    },
    {
      "cell_type": "markdown",
      "source": [
        "# 维度变换"
      ],
      "metadata": {
        "id": "a--KrfK016ic"
      }
    },
    {
      "cell_type": "markdown",
      "source": [
        "## View/reshpe\n",
        "保持维度大小不变的情况下,将Tensor变成另外一个维度"
      ],
      "metadata": {
        "id": "HNfJBTLw2ESA"
      }
    },
    {
      "cell_type": "code",
      "source": [
        "a = torch.rand(4,1,28,28)\n",
        "a.shape"
      ],
      "metadata": {
        "id": "oO5OXGmh38cr",
        "outputId": "796e5935-6d97-440b-8be9-d8c07ce92a65",
        "colab": {
          "base_uri": "https://localhost:8080/"
        }
      },
      "execution_count": 80,
      "outputs": [
        {
          "output_type": "execute_result",
          "data": {
            "text/plain": [
              "torch.Size([4, 1, 28, 28])"
            ]
          },
          "metadata": {},
          "execution_count": 80
        }
      ]
    },
    {
      "cell_type": "code",
      "source": [
        "a.view(4,784).shape"
      ],
      "metadata": {
        "id": "3HzfXTUR4gIt",
        "outputId": "524db490-041d-4b43-eca9-3e977a184b7c",
        "colab": {
          "base_uri": "https://localhost:8080/"
        }
      },
      "execution_count": 81,
      "outputs": [
        {
          "output_type": "execute_result",
          "data": {
            "text/plain": [
              "torch.Size([4, 784])"
            ]
          },
          "metadata": {},
          "execution_count": 81
        }
      ]
    },
    {
      "cell_type": "code",
      "source": [
        "b.view(4,784)\n",
        "b.view(4,28,28,1) #Logic Bug\n",
        "a.view(4,783) #报错"
      ],
      "metadata": {
        "id": "fF-ptjIe4nWu",
        "outputId": "f44b05fe-cc0d-4eef-de98-3a2bdced789d",
        "colab": {
          "base_uri": "https://localhost:8080/",
          "height": 208
        }
      },
      "execution_count": 82,
      "outputs": [
        {
          "output_type": "error",
          "ename": "NameError",
          "evalue": "ignored",
          "traceback": [
            "\u001b[0;31m---------------------------------------------------------------------------\u001b[0m",
            "\u001b[0;31mNameError\u001b[0m                                 Traceback (most recent call last)",
            "\u001b[0;32m<ipython-input-82-a30a06705ad5>\u001b[0m in \u001b[0;36m<module>\u001b[0;34m\u001b[0m\n\u001b[0;32m----> 1\u001b[0;31m \u001b[0mb\u001b[0m\u001b[0;34m.\u001b[0m\u001b[0mview\u001b[0m\u001b[0;34m(\u001b[0m\u001b[0;36m4\u001b[0m\u001b[0;34m,\u001b[0m\u001b[0;36m784\u001b[0m\u001b[0;34m)\u001b[0m\u001b[0;34m\u001b[0m\u001b[0;34m\u001b[0m\u001b[0m\n\u001b[0m\u001b[1;32m      2\u001b[0m \u001b[0mb\u001b[0m\u001b[0;34m.\u001b[0m\u001b[0mview\u001b[0m\u001b[0;34m(\u001b[0m\u001b[0;36m4\u001b[0m\u001b[0;34m,\u001b[0m\u001b[0;36m28\u001b[0m\u001b[0;34m,\u001b[0m\u001b[0;36m28\u001b[0m\u001b[0;34m,\u001b[0m\u001b[0;36m1\u001b[0m\u001b[0;34m)\u001b[0m \u001b[0;31m#Logic Bug\u001b[0m\u001b[0;34m\u001b[0m\u001b[0;34m\u001b[0m\u001b[0m\n\u001b[1;32m      3\u001b[0m \u001b[0ma\u001b[0m\u001b[0;34m.\u001b[0m\u001b[0mview\u001b[0m\u001b[0;34m(\u001b[0m\u001b[0;36m4\u001b[0m\u001b[0;34m,\u001b[0m\u001b[0;36m783\u001b[0m\u001b[0;34m)\u001b[0m \u001b[0;31m#报错\u001b[0m\u001b[0;34m\u001b[0m\u001b[0;34m\u001b[0m\u001b[0m\n",
            "\u001b[0;31mNameError\u001b[0m: name 'b' is not defined"
          ]
        }
      ]
    },
    {
      "cell_type": "markdown",
      "source": [
        "## Squeeze/unsqueeze\n",
        "挤压\n",
        "范围 **[-a.dim()-1, a.dim+1)**"
      ],
      "metadata": {
        "id": "razyyPmO3kMJ"
      }
    },
    {
      "cell_type": "code",
      "source": [
        "a = torch.rand(4,1,28,28)\n",
        "a.unsqueeze(0).shape"
      ],
      "metadata": {
        "id": "2rZvxgwI5u4I",
        "outputId": "d0288544-c311-4946-d557-bb554c83896b",
        "colab": {
          "base_uri": "https://localhost:8080/"
        }
      },
      "execution_count": 85,
      "outputs": [
        {
          "output_type": "execute_result",
          "data": {
            "text/plain": [
              "torch.Size([1, 4, 1, 28, 28])"
            ]
          },
          "metadata": {},
          "execution_count": 85
        }
      ]
    },
    {
      "cell_type": "code",
      "source": [
        "a.unsqueeze(-1).shape"
      ],
      "metadata": {
        "id": "rvugbVAm6rKo",
        "outputId": "f99efebd-d6ea-42e9-ec30-a70ac2299213",
        "colab": {
          "base_uri": "https://localhost:8080/"
        }
      },
      "execution_count": 86,
      "outputs": [
        {
          "output_type": "execute_result",
          "data": {
            "text/plain": [
              "torch.Size([4, 1, 28, 28, 1])"
            ]
          },
          "metadata": {},
          "execution_count": 86
        }
      ]
    },
    {
      "cell_type": "code",
      "source": [
        "a.unsqueeze(4).shape"
      ],
      "metadata": {
        "id": "e-H6C16O7LpI",
        "outputId": "62d02f4b-be70-4d1d-f128-3a7140f90e88",
        "colab": {
          "base_uri": "https://localhost:8080/"
        }
      },
      "execution_count": 87,
      "outputs": [
        {
          "output_type": "execute_result",
          "data": {
            "text/plain": [
              "torch.Size([4, 1, 28, 28, 1])"
            ]
          },
          "metadata": {},
          "execution_count": 87
        }
      ]
    },
    {
      "cell_type": "code",
      "source": [
        "a.unsqueeze(-4).shape"
      ],
      "metadata": {
        "id": "RgPBA6kd7PM1",
        "outputId": "b2755ce5-2793-4b14-84d2-2f3d7f9b9a85",
        "colab": {
          "base_uri": "https://localhost:8080/"
        }
      },
      "execution_count": 88,
      "outputs": [
        {
          "output_type": "execute_result",
          "data": {
            "text/plain": [
              "torch.Size([4, 1, 1, 28, 28])"
            ]
          },
          "metadata": {},
          "execution_count": 88
        }
      ]
    },
    {
      "cell_type": "code",
      "source": [
        "a.unsqueeze(-5).shape"
      ],
      "metadata": {
        "id": "PHFfX9dq7Q1l",
        "outputId": "0cac3e6a-4cac-44b6-afca-e45e37d63acc",
        "colab": {
          "base_uri": "https://localhost:8080/"
        }
      },
      "execution_count": 89,
      "outputs": [
        {
          "output_type": "execute_result",
          "data": {
            "text/plain": [
              "torch.Size([1, 4, 1, 28, 28])"
            ]
          },
          "metadata": {},
          "execution_count": 89
        }
      ]
    },
    {
      "cell_type": "code",
      "source": [
        "a = torch.tensor([1.2,2.3])\n",
        "a.shape"
      ],
      "metadata": {
        "id": "pP578fqO96yb",
        "outputId": "28f7df03-635b-481a-a83d-4ace120fe547",
        "colab": {
          "base_uri": "https://localhost:8080/"
        }
      },
      "execution_count": 90,
      "outputs": [
        {
          "output_type": "execute_result",
          "data": {
            "text/plain": [
              "torch.Size([2])"
            ]
          },
          "metadata": {},
          "execution_count": 90
        }
      ]
    },
    {
      "cell_type": "code",
      "source": [
        "a.unsqueeze(-1)"
      ],
      "metadata": {
        "id": "nyZNZCS6-Dk2",
        "outputId": "fa8611cc-e7b2-4a7f-a11a-25c243a8f739",
        "colab": {
          "base_uri": "https://localhost:8080/"
        }
      },
      "execution_count": 91,
      "outputs": [
        {
          "output_type": "execute_result",
          "data": {
            "text/plain": [
              "tensor([[1.2000],\n",
              "        [2.3000]])"
            ]
          },
          "metadata": {},
          "execution_count": 91
        }
      ]
    },
    {
      "cell_type": "code",
      "source": [
        "a.unsqueeze(0)"
      ],
      "metadata": {
        "id": "YU-M8p2A-UKf",
        "outputId": "01b8740e-ed4e-4f9a-eaa3-ff1359450076",
        "colab": {
          "base_uri": "https://localhost:8080/"
        }
      },
      "execution_count": 92,
      "outputs": [
        {
          "output_type": "execute_result",
          "data": {
            "text/plain": [
              "tensor([[1.2000, 2.3000]])"
            ]
          },
          "metadata": {},
          "execution_count": 92
        }
      ]
    },
    {
      "cell_type": "code",
      "source": [
        "# bias相加\n",
        "b = torch.rand(32)\n",
        "f = torch.rand(4,32,14,14)\n",
        "b = b.unsqueeze(1).unsqueeze(2).unsqueeze(0)\n",
        "print(b.shape)"
      ],
      "metadata": {
        "id": "HOpi6Ah9-_gs",
        "outputId": "b995399d-1a6f-4836-f47a-9d8be2fbbe9b",
        "colab": {
          "base_uri": "https://localhost:8080/"
        }
      },
      "execution_count": 93,
      "outputs": [
        {
          "output_type": "stream",
          "name": "stdout",
          "text": [
            "torch.Size([1, 32, 1, 1])\n"
          ]
        }
      ]
    },
    {
      "cell_type": "code",
      "source": [
        "b = torch.rand(1,32,1,1)"
      ],
      "metadata": {
        "id": "49s24HNS_1o9"
      },
      "execution_count": 94,
      "outputs": []
    },
    {
      "cell_type": "code",
      "source": [
        "b.squeeze().shape"
      ],
      "metadata": {
        "id": "HdPH7zq7_81-",
        "outputId": "90c26ad2-c54e-4791-c83a-1cea0c12bf2a",
        "colab": {
          "base_uri": "https://localhost:8080/"
        }
      },
      "execution_count": 95,
      "outputs": [
        {
          "output_type": "execute_result",
          "data": {
            "text/plain": [
              "torch.Size([32])"
            ]
          },
          "metadata": {},
          "execution_count": 95
        }
      ]
    },
    {
      "cell_type": "code",
      "source": [
        "b.squeeze(0).shape"
      ],
      "metadata": {
        "id": "zz36HgwOAAMr",
        "outputId": "d1cdf4fd-75f6-4239-f387-79a3832c6238",
        "colab": {
          "base_uri": "https://localhost:8080/"
        }
      },
      "execution_count": 96,
      "outputs": [
        {
          "output_type": "execute_result",
          "data": {
            "text/plain": [
              "torch.Size([32, 1, 1])"
            ]
          },
          "metadata": {},
          "execution_count": 96
        }
      ]
    },
    {
      "cell_type": "code",
      "source": [
        "b.squeeze(-1).shape"
      ],
      "metadata": {
        "id": "auEbfDxdAHIA",
        "outputId": "dc77d88b-2e78-4b91-c046-0f28360e7443",
        "colab": {
          "base_uri": "https://localhost:8080/"
        }
      },
      "execution_count": 97,
      "outputs": [
        {
          "output_type": "execute_result",
          "data": {
            "text/plain": [
              "torch.Size([1, 32, 1])"
            ]
          },
          "metadata": {},
          "execution_count": 97
        }
      ]
    },
    {
      "cell_type": "code",
      "source": [
        "b.squeeze(1).shape #维度32,无法挤压"
      ],
      "metadata": {
        "id": "bhvPsT0rAO4y",
        "outputId": "ab6d23b5-ba11-4221-90b0-3d80d19ff1d6",
        "colab": {
          "base_uri": "https://localhost:8080/"
        }
      },
      "execution_count": 98,
      "outputs": [
        {
          "output_type": "execute_result",
          "data": {
            "text/plain": [
              "torch.Size([1, 32, 1, 1])"
            ]
          },
          "metadata": {},
          "execution_count": 98
        }
      ]
    },
    {
      "cell_type": "code",
      "source": [
        "b.squeeze(-4).shape"
      ],
      "metadata": {
        "id": "gSfsK_ngAWIS"
      },
      "execution_count": null,
      "outputs": []
    },
    {
      "cell_type": "markdown",
      "source": [
        "## Transpose/t/permute\n",
        "矩阵转置"
      ],
      "metadata": {
        "id": "RrPbTZkq3vR-"
      }
    },
    {
      "cell_type": "code",
      "source": [
        "a = torch.randn(3,4)\n",
        "a.t()"
      ],
      "metadata": {
        "id": "nqU8H-bLDLxd",
        "outputId": "514d436a-aaff-4787-a480-c1c3b4b07136",
        "colab": {
          "base_uri": "https://localhost:8080/"
        }
      },
      "execution_count": 106,
      "outputs": [
        {
          "output_type": "execute_result",
          "data": {
            "text/plain": [
              "tensor([[ 1.1913,  0.2254,  0.2113],\n",
              "        [-0.0325, -0.5963,  0.3614],\n",
              "        [ 0.1286,  0.2768,  0.6411],\n",
              "        [-2.5756, -1.4825, -1.6181]])"
            ]
          },
          "metadata": {},
          "execution_count": 106
        }
      ]
    },
    {
      "cell_type": "code",
      "source": [
        " a = torch.rand(4,3,32,32)"
      ],
      "metadata": {
        "id": "U1NGVmrxDVHY"
      },
      "execution_count": 107,
      "outputs": []
    },
    {
      "cell_type": "code",
      "source": [
        "a1 = a.transpose(1,3).view(4,3*32*32).view(4,3,32,32)"
      ],
      "metadata": {
        "id": "UeR7FHn2GJ2H",
        "outputId": "23b8eb99-7057-4042-da76-819d2d74f40d",
        "colab": {
          "base_uri": "https://localhost:8080/",
          "height": 190
        }
      },
      "execution_count": 108,
      "outputs": [
        {
          "output_type": "error",
          "ename": "RuntimeError",
          "evalue": "ignored",
          "traceback": [
            "\u001b[0;31m---------------------------------------------------------------------------\u001b[0m",
            "\u001b[0;31mRuntimeError\u001b[0m                              Traceback (most recent call last)",
            "\u001b[0;32m<ipython-input-108-262e84a7fdcb>\u001b[0m in \u001b[0;36m<module>\u001b[0;34m\u001b[0m\n\u001b[0;32m----> 1\u001b[0;31m \u001b[0ma1\u001b[0m \u001b[0;34m=\u001b[0m \u001b[0ma\u001b[0m\u001b[0;34m.\u001b[0m\u001b[0mtranspose\u001b[0m\u001b[0;34m(\u001b[0m\u001b[0;36m1\u001b[0m\u001b[0;34m,\u001b[0m\u001b[0;36m3\u001b[0m\u001b[0;34m)\u001b[0m\u001b[0;34m.\u001b[0m\u001b[0mview\u001b[0m\u001b[0;34m(\u001b[0m\u001b[0;36m4\u001b[0m\u001b[0;34m,\u001b[0m\u001b[0;36m3\u001b[0m\u001b[0;34m*\u001b[0m\u001b[0;36m32\u001b[0m\u001b[0;34m*\u001b[0m\u001b[0;36m32\u001b[0m\u001b[0;34m)\u001b[0m\u001b[0;34m.\u001b[0m\u001b[0mview\u001b[0m\u001b[0;34m(\u001b[0m\u001b[0;36m4\u001b[0m\u001b[0;34m,\u001b[0m\u001b[0;36m3\u001b[0m\u001b[0;34m,\u001b[0m\u001b[0;36m32\u001b[0m\u001b[0;34m,\u001b[0m\u001b[0;36m32\u001b[0m\u001b[0;34m)\u001b[0m\u001b[0;34m\u001b[0m\u001b[0;34m\u001b[0m\u001b[0m\n\u001b[0m",
            "\u001b[0;31mRuntimeError\u001b[0m: view size is not compatible with input tensor's size and stride (at least one dimension spans across two contiguous subspaces). Use .reshape(...) instead."
          ]
        }
      ]
    },
    {
      "cell_type": "code",
      "source": [
        "a1 = a.transpose(1,3).contiguous().view(4,3*32*32).view(4,3,32,32)"
      ],
      "metadata": {
        "id": "1CtebvPxGSTL"
      },
      "execution_count": 109,
      "outputs": []
    },
    {
      "cell_type": "code",
      "source": [
        "a2 = a.transpose(1,3).contiguous().view(4,3*32*32).view(4,32,32,3).transpose(1,3)"
      ],
      "metadata": {
        "id": "YKOjQ1KBGgoW"
      },
      "execution_count": 110,
      "outputs": []
    },
    {
      "cell_type": "code",
      "source": [
        "a1.shape, a2.shape"
      ],
      "metadata": {
        "id": "hSH382lKGt8N",
        "outputId": "cd9529af-aac2-4fdc-8855-f3403c42dfa4",
        "colab": {
          "base_uri": "https://localhost:8080/"
        }
      },
      "execution_count": 111,
      "outputs": [
        {
          "output_type": "execute_result",
          "data": {
            "text/plain": [
              "(torch.Size([4, 3, 32, 32]), torch.Size([4, 3, 32, 32]))"
            ]
          },
          "metadata": {},
          "execution_count": 111
        }
      ]
    },
    {
      "cell_type": "code",
      "source": [
        "torch.all(torch.eq(a,a1))"
      ],
      "metadata": {
        "id": "PdK-IitOG0Bs",
        "outputId": "ce02d2fe-0001-4447-f6a5-29b1d8cb4dab",
        "colab": {
          "base_uri": "https://localhost:8080/"
        }
      },
      "execution_count": 112,
      "outputs": [
        {
          "output_type": "execute_result",
          "data": {
            "text/plain": [
              "tensor(False)"
            ]
          },
          "metadata": {},
          "execution_count": 112
        }
      ]
    },
    {
      "cell_type": "code",
      "source": [
        "torch.all(torch.eq(a,a2))"
      ],
      "metadata": {
        "id": "enQTbqWCG4on",
        "outputId": "82607231-6ad4-408d-d52c-b43431b9e314",
        "colab": {
          "base_uri": "https://localhost:8080/"
        }
      },
      "execution_count": 113,
      "outputs": [
        {
          "output_type": "execute_result",
          "data": {
            "text/plain": [
              "tensor(True)"
            ]
          },
          "metadata": {},
          "execution_count": 113
        }
      ]
    },
    {
      "cell_type": "markdown",
      "source": [
        "### permute"
      ],
      "metadata": {
        "id": "vDEOczxVG9hE"
      }
    },
    {
      "cell_type": "code",
      "source": [
        " a = torch.rand(4,3,28,28)"
      ],
      "metadata": {
        "id": "ADSFTgSlG_y8"
      },
      "execution_count": 114,
      "outputs": []
    },
    {
      "cell_type": "code",
      "source": [
        "a.transpose(1,3).shape"
      ],
      "metadata": {
        "id": "v-XhhOsGHWiy",
        "outputId": "ec4412cb-c701-4bef-a46d-a63141d3fd63",
        "colab": {
          "base_uri": "https://localhost:8080/"
        }
      },
      "execution_count": 115,
      "outputs": [
        {
          "output_type": "execute_result",
          "data": {
            "text/plain": [
              "torch.Size([4, 28, 28, 3])"
            ]
          },
          "metadata": {},
          "execution_count": 115
        }
      ]
    },
    {
      "cell_type": "code",
      "source": [
        "b = torch.rand(4,3,28,32)"
      ],
      "metadata": {
        "id": "amOeNwS1HdmN"
      },
      "execution_count": 116,
      "outputs": []
    },
    {
      "cell_type": "code",
      "source": [
        "b.transpose(1,3).shape"
      ],
      "metadata": {
        "id": "Q8iL8Oq-HkYy",
        "outputId": "c7915b47-c062-4146-d36a-2970df136145",
        "colab": {
          "base_uri": "https://localhost:8080/"
        }
      },
      "execution_count": 117,
      "outputs": [
        {
          "output_type": "execute_result",
          "data": {
            "text/plain": [
              "torch.Size([4, 32, 28, 3])"
            ]
          },
          "metadata": {},
          "execution_count": 117
        }
      ]
    },
    {
      "cell_type": "code",
      "source": [
        "b.transpose(1,3).transpose(1,2).shape"
      ],
      "metadata": {
        "id": "IOWNIDKtHpC-",
        "outputId": "e3ac3408-bcab-487d-a35f-cad91786e16b",
        "colab": {
          "base_uri": "https://localhost:8080/"
        }
      },
      "execution_count": 118,
      "outputs": [
        {
          "output_type": "execute_result",
          "data": {
            "text/plain": [
              "torch.Size([4, 28, 32, 3])"
            ]
          },
          "metadata": {},
          "execution_count": 118
        }
      ]
    },
    {
      "cell_type": "code",
      "source": [
        "b.permute(0,2,3,1).shape"
      ],
      "metadata": {
        "id": "Ak48yf6lHuFk",
        "outputId": "bd180cd2-900d-47a3-cd02-a5e555cfff23",
        "colab": {
          "base_uri": "https://localhost:8080/"
        }
      },
      "execution_count": 119,
      "outputs": [
        {
          "output_type": "execute_result",
          "data": {
            "text/plain": [
              "torch.Size([4, 28, 32, 3])"
            ]
          },
          "metadata": {},
          "execution_count": 119
        }
      ]
    },
    {
      "cell_type": "markdown",
      "source": [
        "## Expand/repeat\n",
        "维度扩展 Expand: broadcasting\n",
        "     Repeat: memory copied"
      ],
      "metadata": {
        "id": "wXlTvE2x336i"
      }
    },
    {
      "cell_type": "code",
      "source": [
        "b = torch.rand(1,32,1,1) "
      ],
      "metadata": {
        "id": "DfENs8seAog_"
      },
      "execution_count": 100,
      "outputs": []
    },
    {
      "cell_type": "code",
      "source": [
        "b.expand(4,32,14,14).shape"
      ],
      "metadata": {
        "id": "unzpZHwSCemC",
        "outputId": "f0eed932-2922-41dc-f839-969258426e22",
        "colab": {
          "base_uri": "https://localhost:8080/"
        }
      },
      "execution_count": 101,
      "outputs": [
        {
          "output_type": "execute_result",
          "data": {
            "text/plain": [
              "torch.Size([4, 32, 14, 14])"
            ]
          },
          "metadata": {},
          "execution_count": 101
        }
      ]
    },
    {
      "cell_type": "code",
      "source": [
        "b.expand(-1,32,-1,-1).shape"
      ],
      "metadata": {
        "id": "p30zAJt0CgkH",
        "outputId": "4973c12d-792f-4f2d-893a-c088f9614f5e",
        "colab": {
          "base_uri": "https://localhost:8080/"
        }
      },
      "execution_count": 102,
      "outputs": [
        {
          "output_type": "execute_result",
          "data": {
            "text/plain": [
              "torch.Size([1, 32, 1, 1])"
            ]
          },
          "metadata": {},
          "execution_count": 102
        }
      ]
    },
    {
      "cell_type": "code",
      "source": [
        "b.repeat(4,32,1,1).shape #repeat每个维度重复次数"
      ],
      "metadata": {
        "id": "eao1mrEiCoN1",
        "outputId": "034429d8-60ab-4550-bf5c-44a1085cab1a",
        "colab": {
          "base_uri": "https://localhost:8080/"
        }
      },
      "execution_count": 104,
      "outputs": [
        {
          "output_type": "execute_result",
          "data": {
            "text/plain": [
              "torch.Size([4, 1024, 1, 1])"
            ]
          },
          "metadata": {},
          "execution_count": 104
        }
      ]
    },
    {
      "cell_type": "code",
      "source": [
        "b.repeat(4,1,1,1).shape   "
      ],
      "metadata": {
        "id": "nXhGqSOuC-IF",
        "outputId": "60d0e9d4-113e-4446-cb4b-92529f2f6b75",
        "colab": {
          "base_uri": "https://localhost:8080/"
        }
      },
      "execution_count": 105,
      "outputs": [
        {
          "output_type": "execute_result",
          "data": {
            "text/plain": [
              "torch.Size([4, 32, 1, 1])"
            ]
          },
          "metadata": {},
          "execution_count": 105
        }
      ]
    },
    {
      "cell_type": "markdown",
      "source": [
        "基于已存在的tensor去操作"
      ],
      "metadata": {
        "id": "VGlGHddWXN-l"
      }
    },
    {
      "cell_type": "markdown",
      "source": [
        "查看维度,层到另外一层,矩阵相乘"
      ],
      "metadata": {
        "id": "EsaRwETWYFss"
      }
    },
    {
      "cell_type": "code",
      "source": [
        "torch.tensor([1,2,3]).size()"
      ],
      "metadata": {
        "colab": {
          "base_uri": "https://localhost:8080/"
        },
        "id": "eVFi0r45YEHO",
        "outputId": "e477c433-5919-45ee-a3f3-4886880535fe"
      },
      "execution_count": null,
      "outputs": [
        {
          "output_type": "execute_result",
          "data": {
            "text/plain": [
              "torch.Size([3])"
            ]
          },
          "metadata": {},
          "execution_count": 13
        }
      ]
    },
    {
      "cell_type": "code",
      "source": [
        "torch.randn(5,3).size()[1]"
      ],
      "metadata": {
        "colab": {
          "base_uri": "https://localhost:8080/"
        },
        "id": "rLUXluUXYcNb",
        "outputId": "ed687fb9-ae5e-48e3-f176-36b8bc2f2d2d"
      },
      "execution_count": null,
      "outputs": [
        {
          "output_type": "execute_result",
          "data": {
            "text/plain": [
              "3"
            ]
          },
          "metadata": {},
          "execution_count": 14
        }
      ]
    },
    {
      "cell_type": "markdown",
      "source": [
        "运算"
      ],
      "metadata": {
        "id": "ud5SB4qzYkrG"
      }
    },
    {
      "cell_type": "code",
      "source": [
        "x=torch.randn(5,3)\n",
        "y=torch.randn(5,3)\n",
        "x+y"
      ],
      "metadata": {
        "colab": {
          "base_uri": "https://localhost:8080/"
        },
        "id": "tSfL9kLdYo34",
        "outputId": "e686bea0-61ef-471f-9785-f5eba43ff659"
      },
      "execution_count": null,
      "outputs": [
        {
          "output_type": "execute_result",
          "data": {
            "text/plain": [
              "tensor([[-0.0868, -2.4029,  0.2341],\n",
              "        [ 1.0116,  0.5737, -0.2188],\n",
              "        [ 0.2650,  0.8111,  0.7708],\n",
              "        [-0.5784, -1.2125,  1.1976],\n",
              "        [-0.4839, -0.9826, -0.3593]])"
            ]
          },
          "metadata": {},
          "execution_count": 15
        }
      ]
    },
    {
      "cell_type": "code",
      "source": [
        "torch.add(x,y)"
      ],
      "metadata": {
        "colab": {
          "base_uri": "https://localhost:8080/"
        },
        "id": "E2G-vxxuY8ex",
        "outputId": "3a727e57-13e0-46c4-f699-cd0b84d36f7e"
      },
      "execution_count": null,
      "outputs": [
        {
          "output_type": "execute_result",
          "data": {
            "text/plain": [
              "tensor([[-0.0868, -2.4029,  0.2341],\n",
              "        [ 1.0116,  0.5737, -0.2188],\n",
              "        [ 0.2650,  0.8111,  0.7708],\n",
              "        [-0.5784, -1.2125,  1.1976],\n",
              "        [-0.4839, -0.9826, -0.3593]])"
            ]
          },
          "metadata": {},
          "execution_count": 16
        }
      ]
    },
    {
      "cell_type": "code",
      "source": [
        "z = torch.empty(5,3)\n",
        "torch.add(x,y,out=z)\n",
        "z"
      ],
      "metadata": {
        "colab": {
          "base_uri": "https://localhost:8080/"
        },
        "id": "6qkEJn3IZGc3",
        "outputId": "121913f3-d282-474a-da9b-a6b7908f7b8e"
      },
      "execution_count": null,
      "outputs": [
        {
          "output_type": "execute_result",
          "data": {
            "text/plain": [
              "tensor([[-0.0868, -2.4029,  0.2341],\n",
              "        [ 1.0116,  0.5737, -0.2188],\n",
              "        [ 0.2650,  0.8111,  0.7708],\n",
              "        [-0.5784, -1.2125,  1.1976],\n",
              "        [-0.4839, -0.9826, -0.3593]])"
            ]
          },
          "metadata": {},
          "execution_count": 17
        }
      ]
    },
    {
      "cell_type": "code",
      "source": [
        "y.add_(x)  #add x to y inplace '_'"
      ],
      "metadata": {
        "colab": {
          "base_uri": "https://localhost:8080/"
        },
        "id": "kh6oqv9UZWt3",
        "outputId": "1ce91c8c-c995-4f1c-e223-38fa93892673"
      },
      "execution_count": null,
      "outputs": [
        {
          "output_type": "execute_result",
          "data": {
            "text/plain": [
              "tensor([[-0.0868, -2.4029,  0.2341],\n",
              "        [ 1.0116,  0.5737, -0.2188],\n",
              "        [ 0.2650,  0.8111,  0.7708],\n",
              "        [-0.5784, -1.2125,  1.1976],\n",
              "        [-0.4839, -0.9826, -0.3593]])"
            ]
          },
          "metadata": {},
          "execution_count": 18
        }
      ]
    },
    {
      "cell_type": "markdown",
      "source": [
        "操作"
      ],
      "metadata": {
        "id": "g-q1iZa9ZyYx"
      }
    },
    {
      "cell_type": "code",
      "source": [
        "np.array([[1,2,3],[4,5,6]])[:,2]"
      ],
      "metadata": {
        "colab": {
          "base_uri": "https://localhost:8080/"
        },
        "id": "Imcqe8GSZ0n6",
        "outputId": "20e065d3-c939-4160-c111-186cbd4e52e0"
      },
      "execution_count": null,
      "outputs": [
        {
          "output_type": "execute_result",
          "data": {
            "text/plain": [
              "array([3, 6])"
            ]
          },
          "metadata": {},
          "execution_count": 22
        }
      ]
    },
    {
      "cell_type": "code",
      "source": [
        "y[:,0]"
      ],
      "metadata": {
        "colab": {
          "base_uri": "https://localhost:8080/"
        },
        "id": "HDhixv31aI-y",
        "outputId": "067884e1-7478-4796-da9b-4e94d8635423"
      },
      "execution_count": null,
      "outputs": [
        {
          "output_type": "execute_result",
          "data": {
            "text/plain": [
              "tensor([-0.0868,  1.0116,  0.2650, -0.5784, -0.4839])"
            ]
          },
          "metadata": {},
          "execution_count": 25
        }
      ]
    },
    {
      "cell_type": "code",
      "source": [
        "y.view(-1,5) #-1,基于其他固定，再动态算出"
      ],
      "metadata": {
        "colab": {
          "base_uri": "https://localhost:8080/"
        },
        "id": "zRgfOAqCaboU",
        "outputId": "9f6a0ad5-fcd2-4edb-b728-78437674c777"
      },
      "execution_count": null,
      "outputs": [
        {
          "output_type": "execute_result",
          "data": {
            "text/plain": [
              "tensor([[-0.0868, -2.4029,  0.2341,  1.0116,  0.5737],\n",
              "        [-0.2188,  0.2650,  0.8111,  0.7708, -0.5784],\n",
              "        [-1.2125,  1.1976, -0.4839, -0.9826, -0.3593]])"
            ]
          },
          "metadata": {},
          "execution_count": 29
        }
      ]
    },
    {
      "cell_type": "code",
      "source": [
        "y[3,0].item() #非常常用, loss反向传导,打一下日志记录"
      ],
      "metadata": {
        "colab": {
          "base_uri": "https://localhost:8080/"
        },
        "id": "A9CXu7Jwc2jW",
        "outputId": "a00fb124-2f73-4843-e08e-c04c2fe4491b"
      },
      "execution_count": null,
      "outputs": [
        {
          "output_type": "execute_result",
          "data": {
            "text/plain": [
              "-0.5784441828727722"
            ]
          },
          "metadata": {},
          "execution_count": 30
        }
      ]
    },
    {
      "cell_type": "markdown",
      "source": [
        "更多张量计算可参考\n",
        "https://zhuanlan.zhihu.com/p/51323438"
      ],
      "metadata": {
        "id": "G_4W0enUe5_b"
      }
    },
    {
      "cell_type": "code",
      "source": [],
      "metadata": {
        "id": "xEZ211ludKOC"
      },
      "execution_count": null,
      "outputs": []
    }
  ]
}