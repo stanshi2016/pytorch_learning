{
  "nbformat": 4,
  "nbformat_minor": 0,
  "metadata": {
    "colab": {
      "provenance": [],
      "toc_visible": true,
      "authorship_tag": "ABX9TyPO/P2qa4TpM3UrwhvrXfmw",
      "include_colab_link": true
    },
    "kernelspec": {
      "name": "python3",
      "display_name": "Python 3"
    },
    "language_info": {
      "name": "python"
    }
  },
  "cells": [
    {
      "cell_type": "markdown",
      "metadata": {
        "id": "view-in-github",
        "colab_type": "text"
      },
      "source": [
        "<a href=\"https://colab.research.google.com/github/stanshi2016/pytorch_learning/blob/main/%E5%BC%A0%E9%87%8F.ipynb\" target=\"_parent\"><img src=\"https://colab.research.google.com/assets/colab-badge.svg\" alt=\"Open In Colab\"/></a>"
      ]
    },
    {
      "cell_type": "code",
      "execution_count": 2,
      "metadata": {
        "id": "BuxtOB6dT4Zu"
      },
      "outputs": [],
      "source": [
        "import numpy as np\n",
        "import torch "
      ]
    },
    {
      "cell_type": "code",
      "source": [
        "np.array([1,2,3])"
      ],
      "metadata": {
        "colab": {
          "base_uri": "https://localhost:8080/"
        },
        "id": "qwlpoZ6TUdOq",
        "outputId": "2409cc7a-2030-4b16-8318-9cff2cd6dfd1"
      },
      "execution_count": 3,
      "outputs": [
        {
          "output_type": "execute_result",
          "data": {
            "text/plain": [
              "array([1, 2, 3])"
            ]
          },
          "metadata": {},
          "execution_count": 3
        }
      ]
    },
    {
      "cell_type": "code",
      "source": [
        "torch.tensor([1,2,3])"
      ],
      "metadata": {
        "colab": {
          "base_uri": "https://localhost:8080/"
        },
        "id": "BWaJhbEgUooV",
        "outputId": "54f3c2a1-d094-420a-ba98-e79c05412a8c"
      },
      "execution_count": 4,
      "outputs": [
        {
          "output_type": "execute_result",
          "data": {
            "text/plain": [
              "tensor([1, 2, 3])"
            ]
          },
          "metadata": {},
          "execution_count": 4
        }
      ]
    },
    {
      "cell_type": "markdown",
      "source": [
        "# tensor相关的函数和运算"
      ],
      "metadata": {
        "id": "Q873pwvwVMLq"
      }
    },
    {
      "cell_type": "code",
      "source": [
        "torch.empty(5,3)"
      ],
      "metadata": {
        "colab": {
          "base_uri": "https://localhost:8080/"
        },
        "id": "ZZUZIyJDUxoQ",
        "outputId": "c0de1d99-2a7b-4dc1-a06a-faacbc752268"
      },
      "execution_count": 5,
      "outputs": [
        {
          "output_type": "execute_result",
          "data": {
            "text/plain": [
              "tensor([[1.5927e-34, 0.0000e+00, 3.5032e-44],\n",
              "        [0.0000e+00,        nan, 6.4460e-44],\n",
              "        [1.1578e+27, 7.1463e+22, 4.6241e+30],\n",
              "        [1.0552e+24, 5.5757e-02, 1.8728e+31],\n",
              "        [5.9571e-02, 7.0374e+22, 0.0000e+00]])"
            ]
          },
          "metadata": {},
          "execution_count": 5
        }
      ]
    },
    {
      "cell_type": "code",
      "source": [
        "torch.randn(5,3) #随机初始化的矩阵,包括以后一些网络模型,想去确认一些维度, 模型结构, 可能需要一些数据投喂"
      ],
      "metadata": {
        "colab": {
          "base_uri": "https://localhost:8080/"
        },
        "id": "RNnIRuPgVTRU",
        "outputId": "89858470-be8e-4550-ee39-27cae3899886"
      },
      "execution_count": 6,
      "outputs": [
        {
          "output_type": "execute_result",
          "data": {
            "text/plain": [
              "tensor([[ 0.8959,  0.4088,  0.2861],\n",
              "        [-1.0439, -0.3448,  0.3226],\n",
              "        [ 0.2790,  0.1546, -1.6040],\n",
              "        [ 0.5428,  0.4197, -2.1450],\n",
              "        [-1.0152, -0.6445,  0.2172]])"
            ]
          },
          "metadata": {},
          "execution_count": 6
        }
      ]
    },
    {
      "cell_type": "code",
      "source": [
        "torch.zeros(5,3,dtype=torch.long) #x+y 训练这样一个映射,神经网络y truth_label one-hot表示"
      ],
      "metadata": {
        "colab": {
          "base_uri": "https://localhost:8080/"
        },
        "id": "grqSrmRTV61X",
        "outputId": "b3ef9d0f-fa33-492a-ad3c-e9f3e2bab351"
      },
      "execution_count": 10,
      "outputs": [
        {
          "output_type": "execute_result",
          "data": {
            "text/plain": [
              "tensor([[0, 0, 0],\n",
              "        [0, 0, 0],\n",
              "        [0, 0, 0],\n",
              "        [0, 0, 0],\n",
              "        [0, 0, 0]])"
            ]
          },
          "metadata": {},
          "execution_count": 10
        }
      ]
    },
    {
      "cell_type": "markdown",
      "source": [
        "基于已存在的tensor去操作"
      ],
      "metadata": {
        "id": "VGlGHddWXN-l"
      }
    },
    {
      "cell_type": "code",
      "source": [
        "x = torch.tensor([1,2,3])\n",
        "x.new_ones(5,3)"
      ],
      "metadata": {
        "colab": {
          "base_uri": "https://localhost:8080/"
        },
        "id": "ld3E9jxzXDDO",
        "outputId": "7b832ed3-3f89-4d16-94ba-5d95976fe499"
      },
      "execution_count": 11,
      "outputs": [
        {
          "output_type": "execute_result",
          "data": {
            "text/plain": [
              "tensor([[1, 1, 1],\n",
              "        [1, 1, 1],\n",
              "        [1, 1, 1],\n",
              "        [1, 1, 1],\n",
              "        [1, 1, 1]])"
            ]
          },
          "metadata": {},
          "execution_count": 11
        }
      ]
    },
    {
      "cell_type": "code",
      "source": [
        "torch.randn_like(x,dtype=torch.float)"
      ],
      "metadata": {
        "colab": {
          "base_uri": "https://localhost:8080/"
        },
        "id": "M8cXG7J6XjkH",
        "outputId": "2a492007-786d-40c0-ed3d-3848463ccba5"
      },
      "execution_count": 12,
      "outputs": [
        {
          "output_type": "execute_result",
          "data": {
            "text/plain": [
              "tensor([ 1.0803,  0.2885, -0.8636])"
            ]
          },
          "metadata": {},
          "execution_count": 12
        }
      ]
    },
    {
      "cell_type": "markdown",
      "source": [
        "查看维度,层到另外一层,矩阵相乘"
      ],
      "metadata": {
        "id": "EsaRwETWYFss"
      }
    },
    {
      "cell_type": "code",
      "source": [
        "torch.tensor([1,2,3]).size()"
      ],
      "metadata": {
        "colab": {
          "base_uri": "https://localhost:8080/"
        },
        "id": "eVFi0r45YEHO",
        "outputId": "e477c433-5919-45ee-a3f3-4886880535fe"
      },
      "execution_count": 13,
      "outputs": [
        {
          "output_type": "execute_result",
          "data": {
            "text/plain": [
              "torch.Size([3])"
            ]
          },
          "metadata": {},
          "execution_count": 13
        }
      ]
    },
    {
      "cell_type": "code",
      "source": [
        "torch.randn(5,3).size()[1]"
      ],
      "metadata": {
        "colab": {
          "base_uri": "https://localhost:8080/"
        },
        "id": "rLUXluUXYcNb",
        "outputId": "ed687fb9-ae5e-48e3-f176-36b8bc2f2d2d"
      },
      "execution_count": 14,
      "outputs": [
        {
          "output_type": "execute_result",
          "data": {
            "text/plain": [
              "3"
            ]
          },
          "metadata": {},
          "execution_count": 14
        }
      ]
    },
    {
      "cell_type": "markdown",
      "source": [
        "运算"
      ],
      "metadata": {
        "id": "ud5SB4qzYkrG"
      }
    },
    {
      "cell_type": "code",
      "source": [
        "x=torch.randn(5,3)\n",
        "y=torch.randn(5,3)\n",
        "x+y"
      ],
      "metadata": {
        "colab": {
          "base_uri": "https://localhost:8080/"
        },
        "id": "tSfL9kLdYo34",
        "outputId": "e686bea0-61ef-471f-9785-f5eba43ff659"
      },
      "execution_count": 15,
      "outputs": [
        {
          "output_type": "execute_result",
          "data": {
            "text/plain": [
              "tensor([[-0.0868, -2.4029,  0.2341],\n",
              "        [ 1.0116,  0.5737, -0.2188],\n",
              "        [ 0.2650,  0.8111,  0.7708],\n",
              "        [-0.5784, -1.2125,  1.1976],\n",
              "        [-0.4839, -0.9826, -0.3593]])"
            ]
          },
          "metadata": {},
          "execution_count": 15
        }
      ]
    },
    {
      "cell_type": "code",
      "source": [
        "torch.add(x,y)"
      ],
      "metadata": {
        "colab": {
          "base_uri": "https://localhost:8080/"
        },
        "id": "E2G-vxxuY8ex",
        "outputId": "3a727e57-13e0-46c4-f699-cd0b84d36f7e"
      },
      "execution_count": 16,
      "outputs": [
        {
          "output_type": "execute_result",
          "data": {
            "text/plain": [
              "tensor([[-0.0868, -2.4029,  0.2341],\n",
              "        [ 1.0116,  0.5737, -0.2188],\n",
              "        [ 0.2650,  0.8111,  0.7708],\n",
              "        [-0.5784, -1.2125,  1.1976],\n",
              "        [-0.4839, -0.9826, -0.3593]])"
            ]
          },
          "metadata": {},
          "execution_count": 16
        }
      ]
    },
    {
      "cell_type": "code",
      "source": [
        "z = torch.empty(5,3)\n",
        "torch.add(x,y,out=z)\n",
        "z"
      ],
      "metadata": {
        "colab": {
          "base_uri": "https://localhost:8080/"
        },
        "id": "6qkEJn3IZGc3",
        "outputId": "121913f3-d282-474a-da9b-a6b7908f7b8e"
      },
      "execution_count": 17,
      "outputs": [
        {
          "output_type": "execute_result",
          "data": {
            "text/plain": [
              "tensor([[-0.0868, -2.4029,  0.2341],\n",
              "        [ 1.0116,  0.5737, -0.2188],\n",
              "        [ 0.2650,  0.8111,  0.7708],\n",
              "        [-0.5784, -1.2125,  1.1976],\n",
              "        [-0.4839, -0.9826, -0.3593]])"
            ]
          },
          "metadata": {},
          "execution_count": 17
        }
      ]
    },
    {
      "cell_type": "code",
      "source": [
        "y.add_(x)  #add x to y inplace '_'"
      ],
      "metadata": {
        "colab": {
          "base_uri": "https://localhost:8080/"
        },
        "id": "kh6oqv9UZWt3",
        "outputId": "1ce91c8c-c995-4f1c-e223-38fa93892673"
      },
      "execution_count": 18,
      "outputs": [
        {
          "output_type": "execute_result",
          "data": {
            "text/plain": [
              "tensor([[-0.0868, -2.4029,  0.2341],\n",
              "        [ 1.0116,  0.5737, -0.2188],\n",
              "        [ 0.2650,  0.8111,  0.7708],\n",
              "        [-0.5784, -1.2125,  1.1976],\n",
              "        [-0.4839, -0.9826, -0.3593]])"
            ]
          },
          "metadata": {},
          "execution_count": 18
        }
      ]
    },
    {
      "cell_type": "markdown",
      "source": [
        "操作"
      ],
      "metadata": {
        "id": "g-q1iZa9ZyYx"
      }
    },
    {
      "cell_type": "code",
      "source": [
        "np.array([[1,2,3],[4,5,6]])[:,2]"
      ],
      "metadata": {
        "colab": {
          "base_uri": "https://localhost:8080/"
        },
        "id": "Imcqe8GSZ0n6",
        "outputId": "20e065d3-c939-4160-c111-186cbd4e52e0"
      },
      "execution_count": 22,
      "outputs": [
        {
          "output_type": "execute_result",
          "data": {
            "text/plain": [
              "array([3, 6])"
            ]
          },
          "metadata": {},
          "execution_count": 22
        }
      ]
    },
    {
      "cell_type": "code",
      "source": [
        "y[:,0]"
      ],
      "metadata": {
        "colab": {
          "base_uri": "https://localhost:8080/"
        },
        "id": "HDhixv31aI-y",
        "outputId": "067884e1-7478-4796-da9b-4e94d8635423"
      },
      "execution_count": 25,
      "outputs": [
        {
          "output_type": "execute_result",
          "data": {
            "text/plain": [
              "tensor([-0.0868,  1.0116,  0.2650, -0.5784, -0.4839])"
            ]
          },
          "metadata": {},
          "execution_count": 25
        }
      ]
    },
    {
      "cell_type": "code",
      "source": [
        "y.view(-1,5) #-1,基于其他固定，再动态算出"
      ],
      "metadata": {
        "colab": {
          "base_uri": "https://localhost:8080/"
        },
        "id": "zRgfOAqCaboU",
        "outputId": "9f6a0ad5-fcd2-4edb-b728-78437674c777"
      },
      "execution_count": 29,
      "outputs": [
        {
          "output_type": "execute_result",
          "data": {
            "text/plain": [
              "tensor([[-0.0868, -2.4029,  0.2341,  1.0116,  0.5737],\n",
              "        [-0.2188,  0.2650,  0.8111,  0.7708, -0.5784],\n",
              "        [-1.2125,  1.1976, -0.4839, -0.9826, -0.3593]])"
            ]
          },
          "metadata": {},
          "execution_count": 29
        }
      ]
    },
    {
      "cell_type": "code",
      "source": [
        "y[3,0].item() #非常常用, loss反向传导,打一下日志记录"
      ],
      "metadata": {
        "colab": {
          "base_uri": "https://localhost:8080/"
        },
        "id": "A9CXu7Jwc2jW",
        "outputId": "a00fb124-2f73-4843-e08e-c04c2fe4491b"
      },
      "execution_count": 30,
      "outputs": [
        {
          "output_type": "execute_result",
          "data": {
            "text/plain": [
              "-0.5784441828727722"
            ]
          },
          "metadata": {},
          "execution_count": 30
        }
      ]
    },
    {
      "cell_type": "markdown",
      "source": [
        "更多张量计算可参考\n",
        "https://zhuanlan.zhihu.com/p/51323438"
      ],
      "metadata": {
        "id": "G_4W0enUe5_b"
      }
    },
    {
      "cell_type": "code",
      "source": [],
      "metadata": {
        "id": "xEZ211ludKOC"
      },
      "execution_count": null,
      "outputs": []
    }
  ]
}